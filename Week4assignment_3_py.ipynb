{
  "nbformat": 4,
  "nbformat_minor": 0,
  "metadata": {
    "colab": {
      "provenance": [],
      "authorship_tag": "ABX9TyMuwRonwUKN0yWsPp2NmP0i",
      "include_colab_link": true
    },
    "kernelspec": {
      "name": "python3",
      "display_name": "Python 3"
    },
    "language_info": {
      "name": "python"
    }
  },
  "cells": [
    {
      "cell_type": "markdown",
      "metadata": {
        "id": "view-in-github",
        "colab_type": "text"
      },
      "source": [
        "<a href=\"https://colab.research.google.com/github/mohamedaydid12/Week-4-Assignment-/blob/main/Week4assignment_3_py.ipynb\" target=\"_parent\"><img src=\"https://colab.research.google.com/assets/colab-badge.svg\" alt=\"Open In Colab\"/></a>"
      ]
    },
    {
      "cell_type": "code",
      "execution_count": null,
      "metadata": {
        "id": "cRMfCR00qMvB"
      },
      "outputs": [],
      "source": [
        "import pandas as pd\n",
        "\n",
        "# First, read the CSV file in using df = pd.read_csv('student_grades.csv').\n",
        "\n",
        "# Step 2: Find the average grade using the formula average_grade = df['grade'].mean()\n",
        "\n",
        "# Step 3: Determine each student's difference using the formula df['grade_difference'] = df['grade']. Average_grade\n",
        "\n",
        "# Write the output to a new file called df.to_csv('student_grade_differences.csv', index=False) in step four.\n",
        "\n"
      ]
    }
  ]
}