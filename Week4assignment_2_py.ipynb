{
  "nbformat": 4,
  "nbformat_minor": 0,
  "metadata": {
    "colab": {
      "provenance": [],
      "authorship_tag": "ABX9TyNbJzpIB19kW81oXLpDyMrA",
      "include_colab_link": true
    },
    "kernelspec": {
      "name": "python3",
      "display_name": "Python 3"
    },
    "language_info": {
      "name": "python"
    }
  },
  "cells": [
    {
      "cell_type": "markdown",
      "metadata": {
        "id": "view-in-github",
        "colab_type": "text"
      },
      "source": [
        "<a href=\"https://colab.research.google.com/github/mohamedaydid12/Week-4-Assignment-/blob/main/Week4assignment_2_py.ipynb\" target=\"_parent\"><img src=\"https://colab.research.google.com/assets/colab-badge.svg\" alt=\"Open In Colab\"/></a>"
      ]
    },
    {
      "cell_type": "code",
      "source": [
        "import os\n",
        "\n",
        "# Verify the current working directory\n",
        "print(\"Current working directory:\", os.getcwd())\n",
        "\n",
        "# Information from the CSV file\n",
        "csv_data = \"\"\"id,first_name,last_name,grade\n",
        "1,John,Doe,90\n",
        "2,Jane,Smith,85\n",
        "3,Emily,Jones,88\n",
        "4,Michael,Brown,75\n",
        "5,Sarah,Johnson,82\n",
        "6,David,Williams,95\n",
        "7,Laura,Garcia,87\n",
        "8,James,Martinez,78\n",
        "10,Mia,Wilson,89\n",
        "12,Matthew,Anderson,76\n",
        "13,Isabella,Thomas,84\n",
        "14,Joshua,Taylor,91\n",
        "15,Sophia,Moore,83\n",
        "16,Andrew,Jackson,77\n",
        "17,Charlotte,Harris,94\n",
        "18,Joseph,Martin,86\n",
        "19,Amelia,Thompson,90\n",
        "20,William,White,73\"\"\"\n",
        "\n",
        "# Save the data as f in a CSV file\n",
        "file_name = 'student_grades.csv'\n",
        "with open(file_name, 'w') as f:\n",
        "    f.write(csv_data)\n",
        "\n",
        "# Read the file now, then determine the average grade.\n",
        "try:\n",
        "    with open(file_name, 'r') as f:\n",
        "        lines = f.readlines()\n",
        "\n",
        "    if len(lines) > 1:  # Verifying that the file contains data (header + rows)\n",
        "        grades = []\n",
        "\n",
        "        # Iterate through every line, omitting the header, and gather the grade for each line in lines[1:]:\n",
        "        for line in lines[1:]:\n",
        "            row = line.split(',')\n",
        "            grades.append(float(row[3].strip()))  # Gather the grade and change it to float.\n",
        "\n",
        "        # Determine the average grade\n",
        "        average_grade = sum(grades) / len(grades)\n",
        "        print(f'Average grade: {average_grade:.2f}')\n",
        "except FileNotFoundError:\n",
        "    print(\"File not found.\")\n"
      ],
      "metadata": {
        "colab": {
          "base_uri": "https://localhost:8080/"
        },
        "id": "5bNQ8AHWpkOP",
        "outputId": "b04ebe16-befa-4ff2-92a0-8b662158185b"
      },
      "execution_count": 20,
      "outputs": [
        {
          "output_type": "stream",
          "name": "stdout",
          "text": [
            "Current working directory: /content\n",
            "Average grade: 84.61\n"
          ]
        }
      ]
    }
  ]
}